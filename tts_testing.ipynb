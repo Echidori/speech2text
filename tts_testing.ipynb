{
 "cells": [
  {
   "cell_type": "code",
   "id": "initial_id",
   "metadata": {
    "collapsed": true
   },
   "source": [
    "import torch\n",
    "from TTS.api import TTS\n",
    "\n",
    "device = \"cuda\" if torch.cuda.is_available() else \"cpu\""
   ],
   "outputs": [],
   "execution_count": null
  },
  {
   "metadata": {},
   "cell_type": "code",
   "source": "tts = TTS(model_name=\"tts_models/multilingual/multi-dataset/xtts_v2\", progress_bar=True).to(device)",
   "id": "3b12bae4a7a3c159",
   "outputs": [],
   "execution_count": null
  },
  {
   "metadata": {},
   "cell_type": "markdown",
   "source": "## Impact de la durée",
   "id": "217e2a9bd140b66d"
  },
  {
   "metadata": {},
   "cell_type": "code",
   "source": [
    "temps_list = [\"1s\", \"5s\", \"10s\", \"20s\", \"30s\", \"45s\", \"1m\", \"1m30s\", \"full\"]  # Exemple de valeurs\n",
    "\n",
    "# Boucle pour chaque valeur dans la liste\n",
    "for temps in temps_list:\n",
    "    # Construire les chemins de fichiers avec la variable TEMPS\n",
    "    input_wav = f\"avare/wavs/emileavare_{temps}.wav\"\n",
    "    output_wav = f\"outputs/output2_{temps}.wav\"\n",
    "    \n",
    "    # Appeler la fonction tts_to_file avec les paramètres dynamiques\n",
    "    tts.tts_to_file(\n",
    "        \"Je suis la tempête qui approche, provoque des nuages noirs isolés.\",\n",
    "        speaker_wav=input_wav,\n",
    "        language=\"fr\",\n",
    "        file_path=output_wav\n",
    "    )"
   ],
   "id": "2e437b28d1f5f417",
   "outputs": [],
   "execution_count": null
  },
  {
   "metadata": {},
   "cell_type": "markdown",
   "source": "#### Essai avec aucune voix dans la source",
   "id": "7eaabc83ae8d8830"
  },
  {
   "metadata": {},
   "cell_type": "code",
   "source": [
    "tts.tts_to_file(\n",
    "        \"Je suis la tempête qui approche, provoque des nuages noirs isolés.\",\n",
    "        speaker_wav=\"balcal.wav\",\n",
    "        language=\"fr\",\n",
    "        file_path=\"bruit_blanc.wav\"\n",
    ")"
   ],
   "id": "2d320ef6bac7781e",
   "outputs": [],
   "execution_count": null
  },
  {
   "metadata": {},
   "cell_type": "markdown",
   "source": "## Conversion de voix",
   "id": "3196bfaaef0d0f53"
  },
  {
   "metadata": {},
   "cell_type": "code",
   "source": "tts.list_models().list_vc_models()",
   "id": "254d8e0377b795f",
   "outputs": [],
   "execution_count": null
  },
  {
   "metadata": {},
   "cell_type": "code",
   "source": "tts = TTS(model_name=\"voice_conversion_models/multilingual/vctk/freevc24\", progress_bar=True).to(device)",
   "id": "383c1dde1c1c6c4a",
   "outputs": [],
   "execution_count": null
  },
  {
   "metadata": {},
   "cell_type": "code",
   "source": "tts.voice_conversion_to_file(source_wav=\"MMGA_emile.wav\", target_wav=\"trump.wav\", file_path=\"test_mmga.wav\")",
   "id": "75b6c9a12f57b678",
   "outputs": [],
   "execution_count": null
  }
 ],
 "metadata": {
  "kernelspec": {
   "display_name": "Python 3",
   "language": "python",
   "name": "python3"
  },
  "language_info": {
   "codemirror_mode": {
    "name": "ipython",
    "version": 2
   },
   "file_extension": ".py",
   "mimetype": "text/x-python",
   "name": "python",
   "nbconvert_exporter": "python",
   "pygments_lexer": "ipython2",
   "version": "2.7.6"
  }
 },
 "nbformat": 4,
 "nbformat_minor": 5
}
